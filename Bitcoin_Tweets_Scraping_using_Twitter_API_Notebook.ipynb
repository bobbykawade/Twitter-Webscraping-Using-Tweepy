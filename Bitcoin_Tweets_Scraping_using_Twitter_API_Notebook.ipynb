{
  "nbformat": 4,
  "nbformat_minor": 0,
  "metadata": {
    "kernelspec": {
      "display_name": "Python 3",
      "language": "python",
      "name": "python3"
    },
    "language_info": {
      "codemirror_mode": {
        "name": "ipython",
        "version": 3
      },
      "file_extension": ".py",
      "mimetype": "text/x-python",
      "name": "python",
      "nbconvert_exporter": "python",
      "pygments_lexer": "ipython3",
      "version": "3.8.5"
    },
    "colab": {
      "name": "Bitcoin Tweets Scraping using Twitter API Notebook.ipynb",
      "provenance": [],
      "collapsed_sections": [],
      "include_colab_link": true
    }
  },
  "cells": [
    {
      "cell_type": "markdown",
      "metadata": {
        "id": "view-in-github",
        "colab_type": "text"
      },
      "source": [
        "<a href=\"https://colab.research.google.com/github/bobbykawade/Twitter-Webscraping-Using-Tweepy/blob/main/Bitcoin_Tweets_Scraping_using_Twitter_API_Notebook.ipynb\" target=\"_parent\"><img src=\"https://colab.research.google.com/assets/colab-badge.svg\" alt=\"Open In Colab\"/></a>"
      ]
    },
    {
      "cell_type": "code",
      "metadata": {
        "colab": {
          "base_uri": "https://localhost:8080/"
        },
        "id": "1eHBuYwQ5v6B",
        "outputId": "87bc6efd-fda2-48fe-8297-4435ae553b0c"
      },
      "source": [
        "!pip install tweepy"
      ],
      "execution_count": 1,
      "outputs": [
        {
          "output_type": "stream",
          "text": [
            "Requirement already satisfied: tweepy in /usr/local/lib/python3.7/dist-packages (3.10.0)\n",
            "Requirement already satisfied: requests-oauthlib>=0.7.0 in /usr/local/lib/python3.7/dist-packages (from tweepy) (1.3.0)\n",
            "Requirement already satisfied: six>=1.10.0 in /usr/local/lib/python3.7/dist-packages (from tweepy) (1.15.0)\n",
            "Requirement already satisfied: requests[socks]>=2.11.1 in /usr/local/lib/python3.7/dist-packages (from tweepy) (2.23.0)\n",
            "Requirement already satisfied: oauthlib>=3.0.0 in /usr/local/lib/python3.7/dist-packages (from requests-oauthlib>=0.7.0->tweepy) (3.1.1)\n",
            "Requirement already satisfied: urllib3!=1.25.0,!=1.25.1,<1.26,>=1.21.1 in /usr/local/lib/python3.7/dist-packages (from requests[socks]>=2.11.1->tweepy) (1.24.3)\n",
            "Requirement already satisfied: certifi>=2017.4.17 in /usr/local/lib/python3.7/dist-packages (from requests[socks]>=2.11.1->tweepy) (2021.5.30)\n",
            "Requirement already satisfied: idna<3,>=2.5 in /usr/local/lib/python3.7/dist-packages (from requests[socks]>=2.11.1->tweepy) (2.10)\n",
            "Requirement already satisfied: chardet<4,>=3.0.2 in /usr/local/lib/python3.7/dist-packages (from requests[socks]>=2.11.1->tweepy) (3.0.4)\n",
            "Requirement already satisfied: PySocks!=1.5.7,>=1.5.6; extra == \"socks\" in /usr/local/lib/python3.7/dist-packages (from requests[socks]>=2.11.1->tweepy) (1.7.1)\n"
          ],
          "name": "stdout"
        }
      ]
    },
    {
      "cell_type": "code",
      "metadata": {
        "id": "4-tSycnq5v6G"
      },
      "source": [
        "import tweepy\n",
        "import pandas as pd\n",
        "import numpy as np"
      ],
      "execution_count": 2,
      "outputs": []
    },
    {
      "cell_type": "code",
      "metadata": {
        "id": "AXDr8xbV5v6G"
      },
      "source": [
        "# all 4 authentication keys to acess twitter API\n",
        "# to connect as OAth Handler or jump server/ reverse proxy server\n",
        "consumer_key = \"GnRTq82coCIo3jt4jA7zODoWm\"\n",
        "consumer_key_secret = \"Ucm1I2eizuzjFD2VptFY8mvxL8QIYDvaREnSTzLyUFcwz7RKoO\"\n",
        "\n",
        "# from proxy server we need to connect\n",
        "access_token = \"1136245774843428864-MNy7YOVmdYU0RtWh8wgnwOUWzHyExj\"\n",
        "access_token_secret = \"9Gz6bd2tjXLCN9iUfyjzOmNkF1RXm0MnyM2HVCe1geYwC\""
      ],
      "execution_count": 8,
      "outputs": []
    },
    {
      "cell_type": "code",
      "metadata": {
        "id": "SRRBt1PE5v6H"
      },
      "source": [
        "# connected to jump server of twitter\n",
        "auth = tweepy.OAuthHandler(consumer_key, consumer_key_secret)"
      ],
      "execution_count": 9,
      "outputs": []
    },
    {
      "cell_type": "code",
      "metadata": {
        "id": "6cxcVsc_5v6H"
      },
      "source": [
        "# now we can connect from jump server to web server of twitter\n",
        "auth.set_access_token(access_token, access_token_secret)"
      ],
      "execution_count": 10,
      "outputs": []
    },
    {
      "cell_type": "code",
      "metadata": {
        "id": "RBwLGAJR5v6I"
      },
      "source": [
        "# now we can connect to API Strong server of twitter\n",
        "api = tweepy.API(auth)"
      ],
      "execution_count": 11,
      "outputs": []
    },
    {
      "cell_type": "code",
      "metadata": {
        "id": "-AgWmIGe5v6I"
      },
      "source": [
        "public_tweets = api.search('data science jobs', count=500, lang='en', tweet_mode='extended')"
      ],
      "execution_count": 32,
      "outputs": []
    },
    {
      "cell_type": "code",
      "metadata": {
        "colab": {
          "base_uri": "https://localhost:8080/",
          "height": 359
        },
        "id": "Cbowsf9e5v6J",
        "outputId": "9a9d6c99-d4db-4cd7-e3b8-aa32727709fa"
      },
      "source": [
        "# will now create a pandas dataframe as follows:\n",
        "df = pd.DataFrame(data=[tweet.full_text for tweet in public_tweets], columns=['original_Tweets'])\n",
        "\n",
        "# We display the first 10 elements of the dataframe:\n",
        "df.head(10)"
      ],
      "execution_count": 33,
      "outputs": [
        {
          "output_type": "execute_result",
          "data": {
            "text/html": [
              "<div>\n",
              "<style scoped>\n",
              "    .dataframe tbody tr th:only-of-type {\n",
              "        vertical-align: middle;\n",
              "    }\n",
              "\n",
              "    .dataframe tbody tr th {\n",
              "        vertical-align: top;\n",
              "    }\n",
              "\n",
              "    .dataframe thead th {\n",
              "        text-align: right;\n",
              "    }\n",
              "</style>\n",
              "<table border=\"1\" class=\"dataframe\">\n",
              "  <thead>\n",
              "    <tr style=\"text-align: right;\">\n",
              "      <th></th>\n",
              "      <th>original_Tweets</th>\n",
              "    </tr>\n",
              "  </thead>\n",
              "  <tbody>\n",
              "    <tr>\n",
              "      <th>0</th>\n",
              "      <td>RT @rystoli: As I hear from more psych folk co...</td>\n",
              "    </tr>\n",
              "    <tr>\n",
              "      <th>1</th>\n",
              "      <td>Can someone please recommend a platform for en...</td>\n",
              "    </tr>\n",
              "    <tr>\n",
              "      <th>2</th>\n",
              "      <td>Can someone please recommend a platform for en...</td>\n",
              "    </tr>\n",
              "    <tr>\n",
              "      <th>3</th>\n",
              "      <td>RT @ESAesdc: We are hiring a new @ESAEsdc Syst...</td>\n",
              "    </tr>\n",
              "    <tr>\n",
              "      <th>4</th>\n",
              "      <td>RT @ESAesdc: We are hiring a new @ESAEsdc Syst...</td>\n",
              "    </tr>\n",
              "    <tr>\n",
              "      <th>5</th>\n",
              "      <td>RT @ktiveron: for those looking for careers in...</td>\n",
              "    </tr>\n",
              "    <tr>\n",
              "      <th>6</th>\n",
              "      <td>for those looking for careers in machine learn...</td>\n",
              "    </tr>\n",
              "    <tr>\n",
              "      <th>7</th>\n",
              "      <td>RT @mastibara: How AlmaBetter helps fill #data...</td>\n",
              "    </tr>\n",
              "    <tr>\n",
              "      <th>8</th>\n",
              "      <td>How AlmaBetter helps fill #datascience jobs at...</td>\n",
              "    </tr>\n",
              "    <tr>\n",
              "      <th>9</th>\n",
              "      <td>REQUIREMENTS TO BE AN AARP DATA MINER..\\nCompl...</td>\n",
              "    </tr>\n",
              "  </tbody>\n",
              "</table>\n",
              "</div>"
            ],
            "text/plain": [
              "                                     original_Tweets\n",
              "0  RT @rystoli: As I hear from more psych folk co...\n",
              "1  Can someone please recommend a platform for en...\n",
              "2  Can someone please recommend a platform for en...\n",
              "3  RT @ESAesdc: We are hiring a new @ESAEsdc Syst...\n",
              "4  RT @ESAesdc: We are hiring a new @ESAEsdc Syst...\n",
              "5  RT @ktiveron: for those looking for careers in...\n",
              "6  for those looking for careers in machine learn...\n",
              "7  RT @mastibara: How AlmaBetter helps fill #data...\n",
              "8  How AlmaBetter helps fill #datascience jobs at...\n",
              "9  REQUIREMENTS TO BE AN AARP DATA MINER..\\nCompl..."
            ]
          },
          "metadata": {
            "tags": []
          },
          "execution_count": 33
        }
      ]
    },
    {
      "cell_type": "code",
      "metadata": {
        "colab": {
          "base_uri": "https://localhost:8080/"
        },
        "id": "Uohhq1Q8dSrw",
        "outputId": "aa6cd07d-09aa-4692-d02d-a4008535577a"
      },
      "source": [
        "df.shape"
      ],
      "execution_count": 37,
      "outputs": [
        {
          "output_type": "execute_result",
          "data": {
            "text/plain": [
              "(100, 7)"
            ]
          },
          "metadata": {
            "tags": []
          },
          "execution_count": 37
        }
      ]
    },
    {
      "cell_type": "code",
      "metadata": {
        "id": "TE17sRrG5v6K"
      },
      "source": [
        "# add relevant data:\n",
        "df['len']  = np.array([len(tweet.full_text) for tweet in public_tweets])\n",
        "df['ID']   = np.array([tweet.id for tweet in public_tweets])\n",
        "df['Date'] = np.array([tweet.created_at for tweet in public_tweets])\n",
        "df['Source'] = np.array([tweet.source for tweet in public_tweets])\n",
        "df['Likes']  = np.array([tweet.favorite_count for tweet in public_tweets])\n",
        "df['RTs']    = np.array([tweet.retweet_count for tweet in public_tweets])"
      ],
      "execution_count": 38,
      "outputs": []
    },
    {
      "cell_type": "code",
      "metadata": {
        "colab": {
          "base_uri": "https://localhost:8080/",
          "height": 359
        },
        "id": "J3MN-YiG5v6K",
        "outputId": "16c6b71f-3361-4c07-8837-eb7fa9185594"
      },
      "source": [
        "# Display of first 10 elements from dataframe:\n",
        "display(df.head(10))"
      ],
      "execution_count": 39,
      "outputs": [
        {
          "output_type": "display_data",
          "data": {
            "text/html": [
              "<div>\n",
              "<style scoped>\n",
              "    .dataframe tbody tr th:only-of-type {\n",
              "        vertical-align: middle;\n",
              "    }\n",
              "\n",
              "    .dataframe tbody tr th {\n",
              "        vertical-align: top;\n",
              "    }\n",
              "\n",
              "    .dataframe thead th {\n",
              "        text-align: right;\n",
              "    }\n",
              "</style>\n",
              "<table border=\"1\" class=\"dataframe\">\n",
              "  <thead>\n",
              "    <tr style=\"text-align: right;\">\n",
              "      <th></th>\n",
              "      <th>original_Tweets</th>\n",
              "      <th>len</th>\n",
              "      <th>ID</th>\n",
              "      <th>Date</th>\n",
              "      <th>Source</th>\n",
              "      <th>Likes</th>\n",
              "      <th>RTs</th>\n",
              "    </tr>\n",
              "  </thead>\n",
              "  <tbody>\n",
              "    <tr>\n",
              "      <th>0</th>\n",
              "      <td>RT @rystoli: As I hear from more psych folk co...</td>\n",
              "      <td>140</td>\n",
              "      <td>1410254264673312771</td>\n",
              "      <td>2021-06-30 15:09:52</td>\n",
              "      <td>Twitter for iPhone</td>\n",
              "      <td>0</td>\n",
              "      <td>35</td>\n",
              "    </tr>\n",
              "    <tr>\n",
              "      <th>1</th>\n",
              "      <td>Can someone please recommend a platform for en...</td>\n",
              "      <td>84</td>\n",
              "      <td>1410253551318749186</td>\n",
              "      <td>2021-06-30 15:07:02</td>\n",
              "      <td>Twitter for Android</td>\n",
              "      <td>1</td>\n",
              "      <td>0</td>\n",
              "    </tr>\n",
              "    <tr>\n",
              "      <th>2</th>\n",
              "      <td>Can someone please recommend a platform for en...</td>\n",
              "      <td>83</td>\n",
              "      <td>1410252791994634240</td>\n",
              "      <td>2021-06-30 15:04:01</td>\n",
              "      <td>Twitter for Android</td>\n",
              "      <td>0</td>\n",
              "      <td>0</td>\n",
              "    </tr>\n",
              "    <tr>\n",
              "      <th>3</th>\n",
              "      <td>RT @ESAesdc: We are hiring a new @ESAEsdc Syst...</td>\n",
              "      <td>140</td>\n",
              "      <td>1410248715873488896</td>\n",
              "      <td>2021-06-30 14:47:49</td>\n",
              "      <td>Twitter Web App</td>\n",
              "      <td>0</td>\n",
              "      <td>7</td>\n",
              "    </tr>\n",
              "    <tr>\n",
              "      <th>4</th>\n",
              "      <td>RT @ESAesdc: We are hiring a new @ESAEsdc Syst...</td>\n",
              "      <td>140</td>\n",
              "      <td>1410247870041763842</td>\n",
              "      <td>2021-06-30 14:44:28</td>\n",
              "      <td>Twitter for Android</td>\n",
              "      <td>0</td>\n",
              "      <td>7</td>\n",
              "    </tr>\n",
              "    <tr>\n",
              "      <th>5</th>\n",
              "      <td>RT @ktiveron: for those looking for careers in...</td>\n",
              "      <td>129</td>\n",
              "      <td>1410234648958021632</td>\n",
              "      <td>2021-06-30 13:51:55</td>\n",
              "      <td>MLTweetBotMK</td>\n",
              "      <td>0</td>\n",
              "      <td>2</td>\n",
              "    </tr>\n",
              "    <tr>\n",
              "      <th>6</th>\n",
              "      <td>for those looking for careers in machine learn...</td>\n",
              "      <td>115</td>\n",
              "      <td>1410234627017617411</td>\n",
              "      <td>2021-06-30 13:51:50</td>\n",
              "      <td>Twitter Web App</td>\n",
              "      <td>1</td>\n",
              "      <td>2</td>\n",
              "    </tr>\n",
              "    <tr>\n",
              "      <th>7</th>\n",
              "      <td>RT @mastibara: How AlmaBetter helps fill #data...</td>\n",
              "      <td>140</td>\n",
              "      <td>1410231663431274496</td>\n",
              "      <td>2021-06-30 13:40:04</td>\n",
              "      <td>DataScienceInfo</td>\n",
              "      <td>0</td>\n",
              "      <td>1</td>\n",
              "    </tr>\n",
              "    <tr>\n",
              "      <th>8</th>\n",
              "      <td>How AlmaBetter helps fill #datascience jobs at...</td>\n",
              "      <td>132</td>\n",
              "      <td>1410231636629897216</td>\n",
              "      <td>2021-06-30 13:39:57</td>\n",
              "      <td>Twitter Web App</td>\n",
              "      <td>0</td>\n",
              "      <td>1</td>\n",
              "    </tr>\n",
              "    <tr>\n",
              "      <th>9</th>\n",
              "      <td>REQUIREMENTS TO BE AN AARP DATA MINER..\\nCompl...</td>\n",
              "      <td>266</td>\n",
              "      <td>1410231272526409743</td>\n",
              "      <td>2021-06-30 13:38:30</td>\n",
              "      <td>TwInbox</td>\n",
              "      <td>0</td>\n",
              "      <td>0</td>\n",
              "    </tr>\n",
              "  </tbody>\n",
              "</table>\n",
              "</div>"
            ],
            "text/plain": [
              "                                     original_Tweets  len  ...  Likes RTs\n",
              "0  RT @rystoli: As I hear from more psych folk co...  140  ...      0  35\n",
              "1  Can someone please recommend a platform for en...   84  ...      1   0\n",
              "2  Can someone please recommend a platform for en...   83  ...      0   0\n",
              "3  RT @ESAesdc: We are hiring a new @ESAEsdc Syst...  140  ...      0   7\n",
              "4  RT @ESAesdc: We are hiring a new @ESAEsdc Syst...  140  ...      0   7\n",
              "5  RT @ktiveron: for those looking for careers in...  129  ...      0   2\n",
              "6  for those looking for careers in machine learn...  115  ...      1   2\n",
              "7  RT @mastibara: How AlmaBetter helps fill #data...  140  ...      0   1\n",
              "8  How AlmaBetter helps fill #datascience jobs at...  132  ...      0   1\n",
              "9  REQUIREMENTS TO BE AN AARP DATA MINER..\\nCompl...  266  ...      0   0\n",
              "\n",
              "[10 rows x 7 columns]"
            ]
          },
          "metadata": {
            "tags": []
          }
        }
      ]
    },
    {
      "cell_type": "code",
      "metadata": {
        "id": "lKMxf1AA5v6L"
      },
      "source": [
        "# dataframe to be stored in CSV file\n",
        "df.to_csv('datasciencejobsscraping.csv')"
      ],
      "execution_count": 40,
      "outputs": []
    },
    {
      "cell_type": "code",
      "metadata": {
        "id": "fWhBylBk5v6L"
      },
      "source": [
        ""
      ],
      "execution_count": null,
      "outputs": []
    },
    {
      "cell_type": "code",
      "metadata": {
        "id": "KwYOYRex5v6L"
      },
      "source": [
        ""
      ],
      "execution_count": null,
      "outputs": []
    }
  ]
}